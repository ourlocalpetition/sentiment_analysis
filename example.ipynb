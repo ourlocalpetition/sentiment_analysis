{
 "cells": [
  {
   "cell_type": "code",
   "execution_count": 2,
   "metadata": {},
   "outputs": [
    {
     "name": "stdout",
     "output_type": "stream",
     "text": [
      "Cloning into 'sentiment_analysis'...\n",
      "remote: Enumerating objects: 40, done.\u001b[K\n",
      "remote: Counting objects: 100% (40/40), done.\u001b[K\n",
      "remote: Compressing objects: 100% (35/35), done.\u001b[K\n",
      "remote: Total 40 (delta 21), reused 15 (delta 5), pack-reused 0\u001b[K\n",
      "Unpacking objects: 100% (40/40), done.\n"
     ]
    },
    {
     "data": {
      "text/plain": [
       "{'positive': 25.218262802999995,\n",
       " 'neutral': 0.188783824,\n",
       " 'negative': 6.776162629999998}"
      ]
     },
     "execution_count": 2,
     "metadata": {},
     "output_type": "execute_result"
    }
   ],
   "source": [
    "!git clone https://github.com/ourlocalpetition/sentiment_analysis.git # 최초 1번만\n",
    "\n",
    "# 패키지 내로 디렉토리 이동\n",
    "import os\n",
    "os.chdir('./sentiment_analysis')\n",
    "\n",
    "# import 하고 감성분석\n",
    "from sent_analysis import SentAnalysis\n",
    "mysent = '7월 4주차에 벌어진 두 정당의 지지도 역전은 ‘컨벤션 효과’와도 관계가 있는 것으로 보인다. 민주당이 지난달 중순까지는 대선 경선에 대한 관심과 맞물려 지지도가 상승했으나, 민주당 경선 일정이 코로나19 여파로 늦춰진 동안 지난달 말 야권 유력 대선 주자 윤석열 전 검찰총장이 국민의힘에 전격 입당하면서 지지도가 함께 상승한 것으로 보인다.'\n",
    "\n",
    "_sent = SentAnalysis(mysent)\n",
    "_sent.count_pos()"
   ]
  },
  {
   "cell_type": "code",
   "execution_count": null,
   "metadata": {},
   "outputs": [],
   "source": []
  }
 ],
 "metadata": {
  "kernelspec": {
   "display_name": "Python",
   "language": "python",
   "name": "python3"
  },
  "language_info": {
   "codemirror_mode": {
    "name": "ipython",
    "version": 3
   },
   "file_extension": ".py",
   "mimetype": "text/x-python",
   "name": "python",
   "nbconvert_exporter": "python",
   "pygments_lexer": "ipython3",
   "version": "3.7.9"
  },
  "toc": {
   "base_numbering": 1,
   "nav_menu": {},
   "number_sections": true,
   "sideBar": true,
   "skip_h1_title": false,
   "title_cell": "Table of Contents",
   "title_sidebar": "Contents",
   "toc_cell": false,
   "toc_position": {},
   "toc_section_display": true,
   "toc_window_display": false
  }
 },
 "nbformat": 4,
 "nbformat_minor": 4
}
